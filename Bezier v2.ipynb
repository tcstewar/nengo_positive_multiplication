{
 "cells": [
  {
   "cell_type": "code",
   "execution_count": 1,
   "metadata": {
    "collapsed": false
   },
   "outputs": [],
   "source": [
    "%matplotlib inline\n",
    "#%matplotlib notebook\n",
    "import pylab\n",
    "import numpy as np\n",
    "import nengo\n",
    "import scipy\n"
   ]
  },
  {
   "cell_type": "code",
   "execution_count": 2,
   "metadata": {
    "collapsed": true
   },
   "outputs": [],
   "source": [
    "class MultiplicativeNetwork(nengo.Network):\n",
    "    def __init__(self, exponents, epsilon=0.001, n_neurons=200, \n",
    "                 input_dist=None,\n",
    "                 output_dist=None,\n",
    "                 n_samples=1000,\n",
    "                 use_scaled_for_total_eval_points=True):\n",
    "        super(MultiplicativeNetwork, self).__init__()\n",
    "        self.exponents = np.array(exponents, dtype=float)\n",
    "        self.w = self.exponents / np.sum(np.abs(self.exponents))\n",
    "        self.epsilon = epsilon\n",
    "        \n",
    "        \n",
    "        with self:\n",
    "            # when connecting to this input, you must apply self.encode_func to transform the data\n",
    "            self.input = nengo.Node(None, size_in=len(exponents), label='input')\n",
    "            \n",
    "            # this is the summed values (hidden layer 2 in the original formulation)\n",
    "            self.total = nengo.Ensemble(n_neurons=n_neurons, dimensions=1)\n",
    "            \n",
    "            # this is the decoded value (output node in the original formulation)\n",
    "            self.output = nengo.Node(None, size_in=1)\n",
    "            \n",
    "            # scale the inputs by w and sum them into the total population\n",
    "            nengo.Connection(self.input, self.total, transform=[self.w], synapse=None)\n",
    "            \n",
    "            # apply the bias\n",
    "            self.bias = nengo.Node([np.sum(self.w)-1], label='bias')\n",
    "            nengo.Connection(self.bias, self.total, synapse=None)\n",
    "            \n",
    "            # decode back out to the original 0-1 range\n",
    "            nengo.Connection(self.total, self.output, function=self.decode_func, \n",
    "                             synapse=None)\n",
    "        \n",
    "        \n",
    "        if output_dist is not None:\n",
    "            eval_points = output_dist.sample(n_samples, d=1)\n",
    "        else:\n",
    "            if input_dist is None:\n",
    "                input_dist = [nengo.dists.Uniform(self.epsilon, 1) for i in range(len(exponents))]\n",
    "            eval_points = np.ones((n_samples,1))\n",
    "            for i, exp in enumerate(self.exponents):\n",
    "                input_pts = input_dist[i].sample(n_samples, d=1)\n",
    "                eval_points *= input_pts**exp\n",
    "                \n",
    "        if use_scaled_for_total_eval_points:\n",
    "            self.total.eval_points = self.encode_func_scaled(eval_points)\n",
    "        else:\n",
    "            self.total.eval_points = self.encode_func(eval_points)\n",
    "                        \n",
    "    # the mapping from total back to the original 0-1 range\n",
    "    def decode_func(self, x):\n",
    "        return self.epsilon ** (self.ialpha(x)*np.sum(np.abs(self.exponents)))\n",
    "    \n",
    "    # the transformation for a single input\n",
    "    def encode_func(self, x):\n",
    "        x = np.maximum(x, self.epsilon)\n",
    "        return self.alpha(np.log(x)/np.log(self.epsilon))\n",
    "    \n",
    "    # the inverse of the decode_func\n",
    "    def encode_func_scaled(self, x):\n",
    "        x = np.maximum(x, self.epsilon)\n",
    "        return self.alpha(np.log(x)/np.log(self.epsilon)/np.sum(np.abs(self.exponents)))\n",
    "        \n",
    "    def alpha(self, x):\n",
    "        a = self.epsilon\n",
    "        b = 1\n",
    "        return (x - (a+b)/2)*2/(b-a)\n",
    "    def ialpha(self, x):\n",
    "        a = self.epsilon\n",
    "        b = 1\n",
    "        return (x/2*(b-a))+(a+b)/2        \n"
   ]
  },
  {
   "cell_type": "markdown",
   "metadata": {},
   "source": [
    "This version of the Bezier model attempts to learn in neuron activity space, rather than in weight space.  The EnsembleArrays in ```self.stored_weights``` hold the coefficients, a recurrent connection keeps them maintained over time, and the error is computed and fed into them.\n",
    "\n",
    "At the moment, this is using the standard default Nengo product networks, since I wasn't sure if these needed to handle negative numbers or not."
   ]
  },
  {
   "cell_type": "code",
   "execution_count": 58,
   "metadata": {
    "collapsed": true
   },
   "outputs": [],
   "source": [
    "from scipy.special import binom\n",
    "\n",
    "class BezierTensorProductApproximation(nengo.Network):\n",
    "    \n",
    "    \n",
    "    def __init__(self, n_inputs, n_outputs, degree=2, weights=None, epsilon=0.001, n_neurons=200, \n",
    "                 ):\n",
    "        \n",
    "        \n",
    "        self.degree = degree\n",
    "        super(BezierTensorProductApproximation, self).__init__() \n",
    "        self.n_inputs = n_inputs\n",
    "        self.n_outputs = n_outputs\n",
    "        self.n_neurons = n_neurons\n",
    "        self.weights = weights\n",
    "        \n",
    "        \n",
    "        with self:\n",
    "            #self.input = nengo.Node(None, size_in=n_inputs, label='input')\n",
    "            self.input = nengo.networks.EnsembleArray(n_neurons=200, n_ensembles=n_inputs)\n",
    "\n",
    "            self.basis = [ nengo.networks.EnsembleArray(n_neurons=self.n_neurons, \n",
    "                                                        n_ensembles=degree+1, \n",
    "                                                        label=\"basis_%d\" % i) \n",
    "                          for i in range(n_inputs)  ]\n",
    "\n",
    "            for i, b in enumerate(self.basis):\n",
    "                for j in range(self.degree+1):\n",
    "                    nengo.Connection(self.input.ea_ensembles[i], b.input[j], function=self.get_basis(j))\n",
    "\n",
    "            self.mults = []\n",
    "\n",
    "\n",
    "            self.output = nengo.networks.EnsembleArray(n_neurons=self.n_neurons,\n",
    "                                                       n_ensembles=self.n_outputs,\n",
    "                                                       label='output')\n",
    "\n",
    "\n",
    "\n",
    "            self.indices = np.array([i for i in np.ndindex(*[self.degree+1]*self.n_inputs)])\n",
    "\n",
    "\n",
    "            if self.weights is None:\n",
    "                self.correct_output = nengo.Node(None, size_in=self.n_outputs)\n",
    "\n",
    "            for index in self.indices:\n",
    "\n",
    "                mult = MultiplicativeNetwork(exponents=[1]*len(index))#,\n",
    "                                             #label=\"tensor_%s\" % ','.join(str(i) for i in str(index)))\n",
    "                self.mults.append(mult)\n",
    "\n",
    "                for i,j in enumerate(index):\n",
    "\n",
    "                    nengo.Connection(self.basis[i].ea_ensembles[j],mult.input[i],function=mult.encode_func,\n",
    "                                     eval_points=np.linspace(epsilon,1,1000).reshape(-1,1))\n",
    "    \n",
    "            self.stored_weights = []\n",
    "            for out in range(n_outputs):\n",
    "                prod = nengo.networks.Product(n_neurons, dimensions=len(self.indices))\n",
    "                \n",
    "                for index in range(len(self.indices)):\n",
    "                    mult = self.mults[index]\n",
    "\n",
    "                    nengo.Connection(mult.total,\n",
    "                                     prod.A[index],\n",
    "                                     function=mult.decode_func)\n",
    "                    nengo.Connection(prod.output[index],\n",
    "                                     self.output.input[out])\n",
    "                        \n",
    "                if self.weights is not None:\n",
    "                    fixed = nengo.Node(self.weights[out])\n",
    "                    nengo.Connection(fixed, prod.B)\n",
    "                else:\n",
    "                    weight_array = nengo.networks.EnsembleArray(n_neurons=self.n_neurons,\n",
    "                                                           n_ensembles=len(self.indices),\n",
    "                                                           label='weights')\n",
    "                    nengo.Connection(weight_array.output, weight_array.input, synapse=0.1)\n",
    "                    self.stored_weights.append(weight_array)\n",
    "                    \n",
    "                    \n",
    "                    nengo.Connection(weight_array.output, prod.B)\n",
    "                    \n",
    "                    \n",
    "                    prod2 = nengo.networks.Product(n_neurons, dimensions=len(self.indices))\n",
    "                    for index in range(len(self.indices)):\n",
    "                        mult = self.mults[index]\n",
    "                        nengo.Connection(mult.total,\n",
    "                                         prod2.A[index],\n",
    "                                         function=mult.decode_func)\n",
    "                        nengo.Connection(self.correct_output[out], prod2.B[index])\n",
    "                        nengo.Connection(self.output.output,\n",
    "                                         prod2.B[index],\n",
    "                                         transform=-1\n",
    "                                         )\n",
    "                    nengo.Connection(prod2.output, weight_array.input, transform=1, synapse=0.01)\n",
    "            \n",
    "\n",
    "                    \n",
    "        \n",
    "    \n",
    "    def get_basis(self, index):\n",
    "        \"\"\"\n",
    "        Returns the basis function of the approximator given an index :math:`i`. \n",
    "        \"\"\"\n",
    "        \n",
    "        def nested(t):\n",
    "            #print(index,  binom(self.degree,index) * t**index * (1-t)**(self.degree-index) )\n",
    "            return binom(self.degree,index) * t**index * (1-t)**(self.degree-index)\n",
    "        \n",
    "        return nested\n",
    "\n",
    "    def get_all_bases(self, T):\n",
    "        \"\"\"\n",
    "        ONLY FOR DEDUGGING\n",
    "        \"\"\"\n",
    "         \n",
    "        result = np.ones(self.indices.shape[0])\n",
    "        for  index, r in zip(self.indices, range(len(result))):\n",
    "            for i,t in zip(index,T):\n",
    "                result[r] *= self.get_basis(i)(t)\n",
    "        return result\n",
    "    \n",
    "    def get_target(self, x):\n",
    "        \"\"\"\n",
    "        EVEN MORE ONLY FOR DEBUGGING\n",
    "        \"\"\"\n",
    "        assert self.n_inputs == 1 , \"WARNING: This works only for a single INPUT\"\n",
    "        weights = np.array([[0.75,1.0,0.0]])    \n",
    "        return np.dot( weights, self.get_all_bases(x))\n",
    "\n",
    "        \n",
    "        "
   ]
  },
  {
   "cell_type": "code",
   "execution_count": 59,
   "metadata": {
    "collapsed": false
   },
   "outputs": [],
   "source": [
    "model = nengo.Network()\n",
    "n_samples = 34\n",
    "samples = np.linspace(0.0,1.0,n_samples)\n",
    "D=1\n",
    "with model:\n",
    "    stim = nengo.Node(lambda t: samples[int(t / 0.3) % n_samples])\n",
    "    p_stim = nengo.Probe(stim, synapse=None)\n",
    "    weights=np.array([[0.75,1.0,0.0]])    \n",
    "    weights=None\n",
    "    bezier=BezierTensorProductApproximation(1,1, weights=weights)\n",
    "    \n",
    "\n",
    "    nengo.Connection(stim, bezier.correct_output, function=bezier.get_target)\n",
    "\n",
    "    nengo.Connection(stim, bezier.input.input, synapse=0.01)    \n",
    "    \n",
    "    basis = nengo.Probe(bezier.basis[0].output, synapse=0.03)\n",
    "    tp = [nengo.Probe(bezier.mults[i].output, synapse=0.03) for i in range(3)]\n",
    "    out = nengo.Probe(bezier.output.output, synapse=0.03)\n",
    "    wp = [nengo.Probe(w.output, synapse=0.03) for w in bezier.stored_weights]\n",
    "\n",
    "   \n",
    "    "
   ]
  },
  {
   "cell_type": "code",
   "execution_count": 60,
   "metadata": {
    "collapsed": false
   },
   "outputs": [
    {
     "name": "stdout",
     "output_type": "stream",
     "text": [
      "Simulation finished in 0:00:39.                                                 \n"
     ]
    }
   ],
   "source": [
    "sim = nengo.Simulator(model)\n",
    "sim.run(10) "
   ]
  },
  {
   "cell_type": "markdown",
   "metadata": {},
   "source": [
    "This seems to work behaviourally...."
   ]
  },
  {
   "cell_type": "code",
   "execution_count": 61,
   "metadata": {
    "collapsed": false
   },
   "outputs": [
    {
     "data": {
      "text/plain": [
       "<matplotlib.legend.Legend at 0x1695c7b8>"
      ]
     },
     "execution_count": 61,
     "metadata": {},
     "output_type": "execute_result"
    },
    {
     "data": {
      "image/png": "[encoded data removed]",
      "text/plain": [
       "<matplotlib.figure.Figure at 0x138d7ef0>"
      ]
     },
     "metadata": {},
     "output_type": "display_data"
    }
   ],
   "source": [
    "correct = np.ones_like(sim.trange())\n",
    "for i in range(1):\n",
    "    correct *= sim.data[p_stim][:,i]\n",
    "correct = nengo.synapses.filt(correct,nengo.synapses.Lowpass(0.01),  dt=sim.dt)    \n",
    "correct = nengo.synapses.filt(correct,nengo.synapses.Lowpass(0.01),  dt=sim.dt)    \n",
    "correct = nengo.synapses.filt(correct,nengo.synapses.Lowpass(0.03),  dt=sim.dt)    \n",
    "    \n",
    "\n",
    "pylab.plot(sim.trange(),sim.data[out], label=\"Output $\\sim 1$\")\n",
    "pylab.plot(sim.trange(), correct, label=\"Input\")    \n",
    "pylab.legend(bbox_to_anchor=(1.05, 1), loc=2, borderaxespad=0., ncol=2)\n"
   ]
  },
  {
   "cell_type": "markdown",
   "metadata": {},
   "source": [
    "But it doesn't find a stable set of coefficients.  I'm not sure what's going wrong here..."
   ]
  },
  {
   "cell_type": "code",
   "execution_count": 62,
   "metadata": {
    "collapsed": false
   },
   "outputs": [
    {
     "data": {
      "image/png": "[encoded data removed]",
      "text/plain": [
       "<matplotlib.figure.Figure at 0x1521a0f0>"
      ]
     },
     "metadata": {},
     "output_type": "display_data"
    }
   ],
   "source": [
    "for p in wp:\n",
    "    pylab.plot(sim.trange(), sim.data[p])"
   ]
  },
  {
   "cell_type": "code",
   "execution_count": null,
   "metadata": {
    "collapsed": true
   },
   "outputs": [],
   "source": []
  }
 ],
 "metadata": {
  "kernelspec": {
   "display_name": "Python 2",
   "language": "python",
   "name": "python2"
  },
  "language_info": {
   "codemirror_mode": {
    "name": "ipython",
    "version": 2
   },
   "file_extension": ".py",
   "mimetype": "text/x-python",
   "name": "python",
   "nbconvert_exporter": "python",
   "pygments_lexer": "ipython2",
   "version": "2.7.5"
  }
 },
 "nbformat": 4,
 "nbformat_minor": 0
}
