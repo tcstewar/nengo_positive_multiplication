{
 "cells": [
  {
   "cell_type": "code",
   "execution_count": 1,
   "metadata": {
    "collapsed": false
   },
   "outputs": [],
   "source": [
    "%matplotlib inline\n",
    "import pylab\n",
    "import numpy as np\n",
    "import nengo\n"
   ]
  },
  {
   "cell_type": "markdown",
   "metadata": {},
   "source": [
    "First, here's a quick direct math implementation so we know what we're trying to do:"
   ]
  },
  {
   "cell_type": "code",
   "execution_count": 69,
   "metadata": {
    "collapsed": false
   },
   "outputs": [
    {
     "data": {
      "text/plain": [
       "0.49313974281560607"
      ]
     },
     "execution_count": 69,
     "metadata": {},
     "output_type": "execute_result"
    }
   ],
   "source": [
    "epsilon = 0.001 \n",
    "\n",
    "def alpha(x, a=epsilon,b=1.0):\n",
    "    return (x - (a+b)/2)*2/(b-a)\n",
    "def ialpha(x, a=epsilon, b=1.0):\n",
    "    return (x/2*(b-a))+(a+b)/2\n",
    "\n",
    "def multiply(values, exponents):\n",
    "    w = exponents / np.sum(np.abs(exponents))\n",
    "    bias = np.sum(w) - 1    \n",
    "    log_v = np.log(values) / np.log(epsilon)   \n",
    "    total = np.sum(w * alpha(log_v)) + bias    \n",
    "    output = epsilon ** (ialpha(total)*np.sum(np.abs(exponents)))    \n",
    "    return output\n",
    "    \n",
    "multiply([0.5,0.5,0.5], [1.0,1.0,-1.0])    "
   ]
  },
  {
   "cell_type": "markdown",
   "metadata": {},
   "source": [
    "Now let's build a minimal Nengo model that will compute this same operation.\n",
    "\n",
    "Note that we are collapsing steps together here.  So instead of using one layer to compute the $\\alpha$ transformation and then the next layer to compute the sum, we collapse these feed-forward operations together into a single layer.\n",
    "\n",
    "By doing this, the multiplicative network only needs one group of neurons: the neurons representing the sum of the transformed components (hidden layer 2 in the original formulation).  All of the transformations into and out of this space are taken care of by Connections into and out of this MultiplicativeNetwork.\n",
    "\n"
   ]
  },
  {
   "cell_type": "code",
   "execution_count": 70,
   "metadata": {
    "collapsed": true
   },
   "outputs": [],
   "source": [
    "class MultiplicativeNetwork(nengo.Network):\n",
    "    def __init__(self, exponents, epsilon=0.001, n_neurons=200, result_dist=nengo.dists.Uniform(0,1)):\n",
    "        super(MultiplicativeNetwork, self).__init__()\n",
    "        self.exponents = np.array(exponents, dtype=float)\n",
    "        self.w = self.exponents / np.sum(np.abs(self.exponents))\n",
    "        self.epsilon = epsilon\n",
    "        \n",
    "        with self:\n",
    "            # when connecting to this input, you must apply self.encode_func to transform the data\n",
    "            self.input = nengo.Node(None, size_in=len(exponents), label='input')\n",
    "            \n",
    "            # this is the summed values (hidden layer 2 in the original formulation)\n",
    "            self.total = nengo.Ensemble(n_neurons=n_neurons, dimensions=1)\n",
    "            \n",
    "            # this is the decoded value (output node in the original formulation)\n",
    "            self.output = nengo.Node(None, size_in=1)\n",
    "            \n",
    "            # scale the inputs by w and sum them into the total population\n",
    "            nengo.Connection(self.input, self.total, transform=[self.w], synapse=None)\n",
    "            # apply the bias\n",
    "            self.bias = nengo.Node([np.sum(self.w)-1], label='bias')\n",
    "            nengo.Connection(self.bias, self.total, synapse=None)\n",
    "            \n",
    "            # decode back out to the original 0-1 range\n",
    "            nengo.Connection(self.total, self.output, function=self.decode_func, synapse=None)\n",
    "        \n",
    "        # when computing the output decoder, optimize for data in the given range\n",
    "        # (note that result_dist is the expected distribution of output values)\n",
    "        self.total.eval_points = self.encode_func_scaled(result_dist.sample(1000, d=1))\n",
    "        \n",
    "        \n",
    "    # the mapping from total back to the original 0-1 range\n",
    "    def decode_func(self, x):\n",
    "        return self.epsilon ** (self.ialpha(x)*np.sum(np.abs(self.exponents)))\n",
    "    \n",
    "    # the transformation for a single input\n",
    "    def encode_func(self, x):\n",
    "        x = np.maximum(x, self.epsilon)\n",
    "        return self.alpha(np.log(x)/np.log(self.epsilon))\n",
    "    \n",
    "    # the inverse of the decode_func\n",
    "    def encode_func_scaled(self, x):\n",
    "        x = np.maximum(x, self.epsilon)\n",
    "        return self.alpha(np.log(x)/np.log(self.epsilon)/np.sum(np.abs(self.exponents)))\n",
    "        \n",
    "    def alpha(self, x):\n",
    "        a = self.epsilon\n",
    "        b = 1\n",
    "        return (x - (a+b)/2)*2/(b-a)\n",
    "    def ialpha(self, x):\n",
    "        a = self.epsilon\n",
    "        b = 1\n",
    "        return (x/2*(b-a))+(a+b)/2        \n"
   ]
  },
  {
   "cell_type": "markdown",
   "metadata": {},
   "source": [
    "Now let's try this out for a random set of inputs.  We'll use 3 inputs and exponents [1, 1, 1]."
   ]
  },
  {
   "cell_type": "code",
   "execution_count": 87,
   "metadata": {
    "collapsed": false
   },
   "outputs": [],
   "source": [
    "D = 3\n",
    "exponents = [1,1,1]\n",
    "\n",
    "n_samples = 40\n",
    "samples = np.random.uniform(0,1, size=(n_samples, D))\n",
    "\n",
    "model = nengo.Network()\n",
    "with model:\n",
    "    \n",
    "    stim = nengo.Node(lambda t: samples[int(t / 0.3) % n_samples])\n",
    "    p_stim = nengo.Probe(stim, synapse=None)\n",
    "    \n",
    "    mult = MultiplicativeNetwork(exponents, epsilon=0.001, n_neurons=200)\n",
    "    p = nengo.Probe(mult.output, synapse=0.03)\n",
    "    \n",
    "    nengo.Connection(stim, mult.input, function=mult.encode_func, synapse=None)"
   ]
  },
  {
   "cell_type": "code",
   "execution_count": 88,
   "metadata": {
    "collapsed": false
   },
   "outputs": [
    {
     "name": "stdout",
     "output_type": "stream",
     "text": [
      "Simulation finished in 0:00:03.                                                 \n"
     ]
    }
   ],
   "source": [
    "sim = nengo.Simulator(model)\n",
    "sim.run(10)"
   ]
  },
  {
   "cell_type": "code",
   "execution_count": 89,
   "metadata": {
    "collapsed": false
   },
   "outputs": [
    {
     "name": "stdout",
     "output_type": "stream",
     "text": [
      "rmse 0.00971032298861\n"
     ]
    },
    {
     "data": {
      "image/png": "[encoded data removed]",
      "text/plain": [
       "<matplotlib.figure.Figure at 0x7f2fa30f3a10>"
      ]
     },
     "metadata": {},
     "output_type": "display_data"
    }
   ],
   "source": [
    "correct = np.ones_like(sim.trange())\n",
    "for i in range(D):\n",
    "    correct *= sim.data[p_stim][:,i]**exponents[i]\n",
    "correct = nengo.synapses.filt(correct,nengo.synapses.Lowpass(0.03),  dt=sim.dt)    \n",
    "    \n",
    "pylab.plot(sim.trange(), sim.data[p])\n",
    "pylab.plot(sim.trange(), correct)    \n",
    "\n",
    "rmse = np.sqrt(np.mean((sim.data[p][:,0]-correct)**2))\n",
    "print 'rmse', rmse\n"
   ]
  },
  {
   "cell_type": "markdown",
   "metadata": {},
   "source": [
    "For a slightly more realistic example, we should show what happens when we have external populations that represent the inputs and outputs."
   ]
  },
  {
   "cell_type": "code",
   "execution_count": 126,
   "metadata": {
    "collapsed": false
   },
   "outputs": [
    {
     "name": "stdout",
     "output_type": "stream",
     "text": [
      "Simulation finished in 0:00:08.                                                 \n"
     ]
    }
   ],
   "source": [
    "D = 3\n",
    "exponents = [1,1,1]\n",
    "\n",
    "n_samples = 40\n",
    "samples = np.random.uniform(0,1, size=(n_samples, D))\n",
    "\n",
    "model = nengo.Network()\n",
    "with model:\n",
    "    \n",
    "    stim = nengo.Node(lambda t: samples[int(t / 0.3) % n_samples])\n",
    "    p_stim = nengo.Probe(stim, synapse=None)\n",
    "    \n",
    "    inputs = nengo.networks.EnsembleArray(n_neurons=200, n_ensembles=D)\n",
    "    \n",
    "    mult = MultiplicativeNetwork(exponents, epsilon=0.001, n_neurons=200)\n",
    "    \n",
    "    inputs.add_output('encode', mult.encode_func)\n",
    "    nengo.Connection(stim, inputs.input, synapse=None)    \n",
    "    nengo.Connection(inputs.encode, mult.input, synapse=0.01)\n",
    "    \n",
    "    output = nengo.Ensemble(n_neurons=200, dimensions=1)\n",
    "    nengo.Connection(mult.output, output, synapse=0.01)\n",
    "    p = nengo.Probe(output, synapse=0.03)\n",
    "    \n",
    "sim = nengo.Simulator(model)\n",
    "sim.run(10)    "
   ]
  },
  {
   "cell_type": "code",
   "execution_count": 127,
   "metadata": {
    "collapsed": false
   },
   "outputs": [
    {
     "name": "stdout",
     "output_type": "stream",
     "text": [
      "rmse 0.0279774264491\n"
     ]
    },
    {
     "data": {
      "image/png": "[encoded data removed]",
      "text/plain": [
       "<matplotlib.figure.Figure at 0x7f2fdeccddd0>"
      ]
     },
     "metadata": {},
     "output_type": "display_data"
    }
   ],
   "source": [
    "correct = np.ones_like(sim.trange())\n",
    "for i in range(D):\n",
    "    correct *= sim.data[p_stim][:,i]**exponents[i]\n",
    "correct = nengo.synapses.filt(correct,nengo.synapses.Lowpass(0.01),  dt=sim.dt)    \n",
    "correct = nengo.synapses.filt(correct,nengo.synapses.Lowpass(0.01),  dt=sim.dt)    \n",
    "correct = nengo.synapses.filt(correct,nengo.synapses.Lowpass(0.03),  dt=sim.dt)    \n",
    "    \n",
    "pylab.plot(sim.trange(), sim.data[p])\n",
    "pylab.plot(sim.trange(), correct)    \n",
    "\n",
    "rmse = np.sqrt(np.mean((sim.data[p][:,0]-correct)**2))\n",
    "print 'rmse', rmse"
   ]
  },
  {
   "cell_type": "markdown",
   "metadata": {},
   "source": [
    "The differences between this version and the version shown above are that we are now introducing new sources of error: the representation of the input values (and its log transformation) and the representation of the output value.  The accuracy of these systems is dependent on the neural systems that are feeding into and reading out of this multiplicative system."
   ]
  },
  {
   "cell_type": "code",
   "execution_count": null,
   "metadata": {
    "collapsed": true
   },
   "outputs": [],
   "source": []
  }
 ],
 "metadata": {
  "kernelspec": {
   "display_name": "Python 2",
   "language": "python",
   "name": "python2"
  },
  "language_info": {
   "codemirror_mode": {
    "name": "ipython",
    "version": 2
   },
   "file_extension": ".py",
   "mimetype": "text/x-python",
   "name": "python",
   "nbconvert_exporter": "python",
   "pygments_lexer": "ipython2",
   "version": "2.7.6"
  }
 },
 "nbformat": 4,
 "nbformat_minor": 0
}
